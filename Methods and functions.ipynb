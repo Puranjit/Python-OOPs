{
 "cells": [
  {
   "cell_type": "markdown",
   "id": "7d141450",
   "metadata": {},
   "source": [
    "# Methods and functions\n",
    "\n",
    "### What are objects?\n",
    "\n",
    "Python is an object-oriented programming language. \n",
    "Everything in Python is treated as an object, including variable, function, list, tuple, dictionary, set, etc. Every object belongs to its class.\n",
    "Format for calling a method is: `object_name.method_name()`"
   ]
  },
  {
   "cell_type": "code",
   "execution_count": 4,
   "id": "e39efb82",
   "metadata": {},
   "outputs": [
    {
     "name": "stdout",
     "output_type": "stream",
     "text": [
      "[4, 5, 2, 3, 1, 0, 8, 7, 9, 6]\n"
     ]
    }
   ],
   "source": [
    "# Creating an object: my_list\n",
    "my_list = [4,5,2,3,1,0,8,7,9,6]\n",
    "print(my_list)\n",
    "my_list.insert(0,3)"
   ]
  },
  {
   "cell_type": "markdown",
   "id": "6728ef15",
   "metadata": {},
   "source": [
    "Fortunately, with the Jupyter Notebook we can quickly see all the possible methods using the tab key. The methods for a `list` are:\n",
    "\n",
    "* append\n",
    "* count\n",
    "* extend\n",
    "* insert\n",
    "* pop\n",
    "* remove\n",
    "* reverse\n",
    "* sort\n",
    "\n",
    "Let's try out a few of them:<br>\n",
    "For eg.- `append()` allows us to add elements to a string"
   ]
  },
  {
   "cell_type": "code",
   "execution_count": 7,
   "id": "4d5aca5b",
   "metadata": {},
   "outputs": [
    {
     "data": {
      "text/plain": [
       "[3, 4, 5, 2, 3, 1, 0, 8, 7, 9, 6, 11, 11, 11]"
      ]
     },
     "execution_count": 7,
     "metadata": {},
     "output_type": "execute_result"
    }
   ],
   "source": [
    "my_list.append(11)\n",
    "my_list"
   ]
  },
  {
   "cell_type": "markdown",
   "id": "27598bd8",
   "metadata": {},
   "source": [
    "Another example: `sort()`"
   ]
  },
  {
   "cell_type": "code",
   "execution_count": 8,
   "id": "8fc7fea2",
   "metadata": {},
   "outputs": [
    {
     "data": {
      "text/plain": [
       "[0, 1, 2, 3, 3, 4, 5, 6, 7, 8, 9, 11, 11, 11]"
      ]
     },
     "execution_count": 8,
     "metadata": {},
     "output_type": "execute_result"
    }
   ],
   "source": [
    "my_list.sort()\n",
    "my_list.insert"
   ]
  },
  {
   "cell_type": "markdown",
   "id": "ce0d7421",
   "metadata": {},
   "source": [
    "We can always use Shift+Tab in the Jupyter Notebook to get more help about the method. \n",
    "In general Python we can also use the help() function:"
   ]
  },
  {
   "cell_type": "code",
   "execution_count": 11,
   "id": "fad88073",
   "metadata": {},
   "outputs": [
    {
     "name": "stdout",
     "output_type": "stream",
     "text": [
      "Help on built-in function append:\n",
      "\n",
      "append(object, /) method of builtins.list instance\n",
      "    Append object to the end of the list.\n",
      "\n"
     ]
    }
   ],
   "source": [
    "help(my_list.append)"
   ]
  },
  {
   "cell_type": "code",
   "execution_count": 12,
   "id": "7c9e4491",
   "metadata": {},
   "outputs": [
    {
     "data": {
      "text/plain": [
       "[0, 1, 2, 3, 5, 3, 4, 5, 6, 7, 8, 9, 11, 11, 11]"
      ]
     },
     "execution_count": 12,
     "metadata": {},
     "output_type": "execute_result"
    }
   ],
   "source": [
    "my_list.insert(4,5)\n",
    "my_list"
   ]
  },
  {
   "cell_type": "markdown",
   "id": "fa7d2865",
   "metadata": {},
   "source": [
    "\n",
    "### What are functions?\n",
    "Formally, a function is a useful device that groups together a set of statements. They can also let us specify parameters that can serve as inputs to the functions.\n",
    "\n",
    "On a more fundamental level, functions allow us to not have to repeatedly write the same code again and again.\n",
    "\n",
    "### Why even use functions?\n",
    "Put simply, you should use functions when you plan on using a block of code multiple times. The function will allow you to call the same block of code without having to write it multiple times. This in turn will allow you to create more complex Python scripts.\n",
    "\n",
    "### `def` keyword\n",
    "We begin with def then a space followed by the name of the function. Try keeping the names relevant, for example `sort()` could be good function-name when we are to write a function for sorting the elements in it. But, we need to keep in mind that `sort()` is a built-in function and we need to name our functions by a seperate function-name to avoid overwriting existing functions.\n",
    "\n",
    "Next come a pair of parentheses with a number of arguments separated by a comma. These arguments are the inputs for your function. You'll be able to use these inputs in your function and reference them. We can name the arguments as anything which I will explain with examples in coming examples. After this you put a colon.\n",
    "\n",
    "`Now here is the important step, you must indent to begin the code inside your function correctly.` Python makes use of whitespace to organize code. Lots of other programing languages do not do this, so keep that in mind.\n",
    "\n",
    "Here comes the docstring part\n",
    "\n",
    "After all this you begin writing the code you wish to execute.\n",
    "\n",
    "The best way to learn functions is by going through examples. So let's try to go through examples that relate back to the various objects and data structures we learned about before."
   ]
  },
  {
   "cell_type": "code",
   "execution_count": 13,
   "id": "3da4db70",
   "metadata": {},
   "outputs": [],
   "source": [
    "def func_name(arg1, arg2):\n",
    "    '''\n",
    "    This is a introductory functions, \n",
    "    just to explain how functions are defined in Python\n",
    "    '''\n",
    "    print('Hi there!!')"
   ]
  },
  {
   "cell_type": "code",
   "execution_count": 15,
   "id": "c7e4300f",
   "metadata": {},
   "outputs": [
    {
     "name": "stdout",
     "output_type": "stream",
     "text": [
      "Help on built-in function len in module builtins:\n",
      "\n",
      "len(obj, /)\n",
      "    Return the number of items in a container.\n",
      "\n"
     ]
    }
   ],
   "source": [
    "help(len)"
   ]
  },
  {
   "cell_type": "code",
   "execution_count": 16,
   "id": "edcadeab",
   "metadata": {},
   "outputs": [
    {
     "name": "stdout",
     "output_type": "stream",
     "text": [
      "Help on built-in function sum in module builtins:\n",
      "\n",
      "sum(iterable, /, start=0)\n",
      "    Return the sum of a 'start' value (default: 0) plus an iterable of numbers\n",
      "    \n",
      "    When the iterable is empty, return the start value.\n",
      "    This function is intended specifically for use with numeric values and may\n",
      "    reject non-numeric types.\n",
      "\n"
     ]
    }
   ],
   "source": [
    "help(sum)"
   ]
  },
  {
   "cell_type": "code",
   "execution_count": 17,
   "id": "18f92ffd",
   "metadata": {},
   "outputs": [
    {
     "name": "stdout",
     "output_type": "stream",
     "text": [
      "Help on class list in module builtins:\n",
      "\n",
      "class list(object)\n",
      " |  list(iterable=(), /)\n",
      " |  \n",
      " |  Built-in mutable sequence.\n",
      " |  \n",
      " |  If no argument is given, the constructor creates a new empty list.\n",
      " |  The argument must be an iterable if specified.\n",
      " |  \n",
      " |  Methods defined here:\n",
      " |  \n",
      " |  __add__(self, value, /)\n",
      " |      Return self+value.\n",
      " |  \n",
      " |  __contains__(self, key, /)\n",
      " |      Return key in self.\n",
      " |  \n",
      " |  __delitem__(self, key, /)\n",
      " |      Delete self[key].\n",
      " |  \n",
      " |  __eq__(self, value, /)\n",
      " |      Return self==value.\n",
      " |  \n",
      " |  __ge__(self, value, /)\n",
      " |      Return self>=value.\n",
      " |  \n",
      " |  __getattribute__(self, name, /)\n",
      " |      Return getattr(self, name).\n",
      " |  \n",
      " |  __getitem__(...)\n",
      " |      x.__getitem__(y) <==> x[y]\n",
      " |  \n",
      " |  __gt__(self, value, /)\n",
      " |      Return self>value.\n",
      " |  \n",
      " |  __iadd__(self, value, /)\n",
      " |      Implement self+=value.\n",
      " |  \n",
      " |  __imul__(self, value, /)\n",
      " |      Implement self*=value.\n",
      " |  \n",
      " |  __init__(self, /, *args, **kwargs)\n",
      " |      Initialize self.  See help(type(self)) for accurate signature.\n",
      " |  \n",
      " |  __iter__(self, /)\n",
      " |      Implement iter(self).\n",
      " |  \n",
      " |  __le__(self, value, /)\n",
      " |      Return self<=value.\n",
      " |  \n",
      " |  __len__(self, /)\n",
      " |      Return len(self).\n",
      " |  \n",
      " |  __lt__(self, value, /)\n",
      " |      Return self<value.\n",
      " |  \n",
      " |  __mul__(self, value, /)\n",
      " |      Return self*value.\n",
      " |  \n",
      " |  __ne__(self, value, /)\n",
      " |      Return self!=value.\n",
      " |  \n",
      " |  __repr__(self, /)\n",
      " |      Return repr(self).\n",
      " |  \n",
      " |  __reversed__(self, /)\n",
      " |      Return a reverse iterator over the list.\n",
      " |  \n",
      " |  __rmul__(self, value, /)\n",
      " |      Return value*self.\n",
      " |  \n",
      " |  __setitem__(self, key, value, /)\n",
      " |      Set self[key] to value.\n",
      " |  \n",
      " |  __sizeof__(self, /)\n",
      " |      Return the size of the list in memory, in bytes.\n",
      " |  \n",
      " |  append(self, object, /)\n",
      " |      Append object to the end of the list.\n",
      " |  \n",
      " |  clear(self, /)\n",
      " |      Remove all items from list.\n",
      " |  \n",
      " |  copy(self, /)\n",
      " |      Return a shallow copy of the list.\n",
      " |  \n",
      " |  count(self, value, /)\n",
      " |      Return number of occurrences of value.\n",
      " |  \n",
      " |  extend(self, iterable, /)\n",
      " |      Extend list by appending elements from the iterable.\n",
      " |  \n",
      " |  index(self, value, start=0, stop=9223372036854775807, /)\n",
      " |      Return first index of value.\n",
      " |      \n",
      " |      Raises ValueError if the value is not present.\n",
      " |  \n",
      " |  insert(self, index, object, /)\n",
      " |      Insert object before index.\n",
      " |  \n",
      " |  pop(self, index=-1, /)\n",
      " |      Remove and return item at index (default last).\n",
      " |      \n",
      " |      Raises IndexError if list is empty or index is out of range.\n",
      " |  \n",
      " |  remove(self, value, /)\n",
      " |      Remove first occurrence of value.\n",
      " |      \n",
      " |      Raises ValueError if the value is not present.\n",
      " |  \n",
      " |  reverse(self, /)\n",
      " |      Reverse *IN PLACE*.\n",
      " |  \n",
      " |  sort(self, /, *, key=None, reverse=False)\n",
      " |      Sort the list in ascending order and return None.\n",
      " |      \n",
      " |      The sort is in-place (i.e. the list itself is modified) and stable (i.e. the\n",
      " |      order of two equal elements is maintained).\n",
      " |      \n",
      " |      If a key function is given, apply it once to each list item and sort them,\n",
      " |      ascending or descending, according to their function values.\n",
      " |      \n",
      " |      The reverse flag can be set to sort in descending order.\n",
      " |  \n",
      " |  ----------------------------------------------------------------------\n",
      " |  Static methods defined here:\n",
      " |  \n",
      " |  __new__(*args, **kwargs) from builtins.type\n",
      " |      Create and return a new object.  See help(type) for accurate signature.\n",
      " |  \n",
      " |  ----------------------------------------------------------------------\n",
      " |  Data and other attributes defined here:\n",
      " |  \n",
      " |  __hash__ = None\n",
      "\n"
     ]
    }
   ],
   "source": [
    "help(list)"
   ]
  },
  {
   "cell_type": "code",
   "execution_count": 18,
   "id": "8f466df0",
   "metadata": {
    "scrolled": true
   },
   "outputs": [
    {
     "name": "stdout",
     "output_type": "stream",
     "text": [
      "Help on class tuple in module builtins:\n",
      "\n",
      "class tuple(object)\n",
      " |  tuple(iterable=(), /)\n",
      " |  \n",
      " |  Built-in immutable sequence.\n",
      " |  \n",
      " |  If no argument is given, the constructor returns an empty tuple.\n",
      " |  If iterable is specified the tuple is initialized from iterable's items.\n",
      " |  \n",
      " |  If the argument is a tuple, the return value is the same object.\n",
      " |  \n",
      " |  Built-in subclasses:\n",
      " |      asyncgen_hooks\n",
      " |      UnraisableHookArgs\n",
      " |  \n",
      " |  Methods defined here:\n",
      " |  \n",
      " |  __add__(self, value, /)\n",
      " |      Return self+value.\n",
      " |  \n",
      " |  __contains__(self, key, /)\n",
      " |      Return key in self.\n",
      " |  \n",
      " |  __eq__(self, value, /)\n",
      " |      Return self==value.\n",
      " |  \n",
      " |  __ge__(self, value, /)\n",
      " |      Return self>=value.\n",
      " |  \n",
      " |  __getattribute__(self, name, /)\n",
      " |      Return getattr(self, name).\n",
      " |  \n",
      " |  __getitem__(self, key, /)\n",
      " |      Return self[key].\n",
      " |  \n",
      " |  __getnewargs__(self, /)\n",
      " |  \n",
      " |  __gt__(self, value, /)\n",
      " |      Return self>value.\n",
      " |  \n",
      " |  __hash__(self, /)\n",
      " |      Return hash(self).\n",
      " |  \n",
      " |  __iter__(self, /)\n",
      " |      Implement iter(self).\n",
      " |  \n",
      " |  __le__(self, value, /)\n",
      " |      Return self<=value.\n",
      " |  \n",
      " |  __len__(self, /)\n",
      " |      Return len(self).\n",
      " |  \n",
      " |  __lt__(self, value, /)\n",
      " |      Return self<value.\n",
      " |  \n",
      " |  __mul__(self, value, /)\n",
      " |      Return self*value.\n",
      " |  \n",
      " |  __ne__(self, value, /)\n",
      " |      Return self!=value.\n",
      " |  \n",
      " |  __repr__(self, /)\n",
      " |      Return repr(self).\n",
      " |  \n",
      " |  __rmul__(self, value, /)\n",
      " |      Return value*self.\n",
      " |  \n",
      " |  count(self, value, /)\n",
      " |      Return number of occurrences of value.\n",
      " |  \n",
      " |  index(self, value, start=0, stop=9223372036854775807, /)\n",
      " |      Return first index of value.\n",
      " |      \n",
      " |      Raises ValueError if the value is not present.\n",
      " |  \n",
      " |  ----------------------------------------------------------------------\n",
      " |  Static methods defined here:\n",
      " |  \n",
      " |  __new__(*args, **kwargs) from builtins.type\n",
      " |      Create and return a new object.  See help(type) for accurate signature.\n",
      "\n"
     ]
    }
   ],
   "source": [
    "help(tuple)"
   ]
  },
  {
   "cell_type": "code",
   "execution_count": 14,
   "id": "7670eb88",
   "metadata": {},
   "outputs": [
    {
     "name": "stdout",
     "output_type": "stream",
     "text": [
      "Help on function func_name in module __main__:\n",
      "\n",
      "func_name(arg1, arg2)\n",
      "    This is a introductory functions, \n",
      "    just to explain how functions are defined in Python\n",
      "\n"
     ]
    }
   ],
   "source": [
    "help(func_name)"
   ]
  },
  {
   "cell_type": "markdown",
   "id": "183b93e3",
   "metadata": {},
   "source": [
    "### Simple example of a function"
   ]
  },
  {
   "cell_type": "code",
   "execution_count": 19,
   "id": "39c0bad8",
   "metadata": {},
   "outputs": [],
   "source": [
    "def hello():\n",
    "    print('Hi!! how are you?')"
   ]
  },
  {
   "cell_type": "markdown",
   "id": "2253d662",
   "metadata": {},
   "source": [
    "### Calling a function ()"
   ]
  },
  {
   "cell_type": "code",
   "execution_count": 20,
   "id": "2e5fb061",
   "metadata": {},
   "outputs": [
    {
     "name": "stdout",
     "output_type": "stream",
     "text": [
      "Hi!! how are you?\n"
     ]
    }
   ],
   "source": [
    "hello()"
   ]
  },
  {
   "cell_type": "markdown",
   "id": "9b20ecc3",
   "metadata": {},
   "source": [
    "If we call a function without a `()` then it will simply show that `function-name` is a function that is created"
   ]
  },
  {
   "cell_type": "code",
   "execution_count": 21,
   "id": "0a33abf7",
   "metadata": {},
   "outputs": [
    {
     "data": {
      "text/plain": [
       "<function __main__.hello()>"
      ]
     },
     "execution_count": 21,
     "metadata": {},
     "output_type": "execute_result"
    }
   ],
   "source": [
    "hello"
   ]
  },
  {
   "cell_type": "markdown",
   "id": "f7fc1fce",
   "metadata": {},
   "source": [
    "### Functions accepting parameters"
   ]
  },
  {
   "cell_type": "code",
   "execution_count": 35,
   "id": "923f6ea4",
   "metadata": {},
   "outputs": [
    {
     "name": "stdout",
     "output_type": "stream",
     "text": [
      "5 66 !!\n",
      "Help on function func in module __main__:\n",
      "\n",
      "func(arg1, arg2)\n",
      "    This is a simple introductory program\n",
      "\n"
     ]
    }
   ],
   "source": [
    "def func(arg1,arg2):\n",
    "    '''\n",
    "    This is a simple introductory program\n",
    "    '''\n",
    "    \n",
    "#     ARG1 ='hELLO'\n",
    "    print('{} {} !!'.format(arg1, arg2))\n",
    "\n",
    "    \n",
    "func(5 , 66)\n",
    "help(func)"
   ]
  },
  {
   "cell_type": "markdown",
   "id": "ae0d9926",
   "metadata": {},
   "source": [
    "## Using return\n",
    "If we actually want to save the resulting variable we need to use the **return** keyword.\n",
    "<code>return</code> allows a function to *return* a result that can then be stored as a variable, or used in whatever manner a user wants.\n",
    "\n",
    "### Example: Addition function"
   ]
  },
  {
   "cell_type": "code",
   "execution_count": 32,
   "id": "8ef257eb",
   "metadata": {},
   "outputs": [
    {
     "data": {
      "text/plain": [
       "7"
      ]
     },
     "execution_count": 32,
     "metadata": {},
     "output_type": "execute_result"
    }
   ],
   "source": [
    "def add_num(num1,num2):\n",
    "    return num1+num2\n",
    "add_num(3,4)"
   ]
  },
  {
   "cell_type": "code",
   "execution_count": 28,
   "id": "4cc22335",
   "metadata": {},
   "outputs": [],
   "source": [
    "result = add_num(5,6)"
   ]
  },
  {
   "cell_type": "code",
   "execution_count": 29,
   "id": "3d2ddfdd",
   "metadata": {},
   "outputs": [
    {
     "data": {
      "text/plain": [
       "11"
      ]
     },
     "execution_count": 29,
     "metadata": {},
     "output_type": "execute_result"
    }
   ],
   "source": [
    "result"
   ]
  },
  {
   "cell_type": "code",
   "execution_count": 33,
   "id": "c1172434",
   "metadata": {},
   "outputs": [
    {
     "data": {
      "text/plain": [
       "'onetwo'"
      ]
     },
     "execution_count": 33,
     "metadata": {},
     "output_type": "execute_result"
    }
   ],
   "source": [
    "add_num('one', 'two')"
   ]
  },
  {
   "cell_type": "markdown",
   "id": "e39ebee5",
   "metadata": {},
   "source": [
    "### The difference between return and print?\n",
    "**The return keyword allows you to actually save the result of the output of a function as a variable. The print() function simply displays the output to you, but doesn't save it for future use. Let's explore this in more detail**"
   ]
  },
  {
   "cell_type": "code",
   "execution_count": 36,
   "id": "e57e46cb",
   "metadata": {},
   "outputs": [
    {
     "name": "stdout",
     "output_type": "stream",
     "text": [
      "Product of numbers is: 49\n"
     ]
    }
   ],
   "source": [
    "def print_result(a,b):\n",
    "    print('Product of numbers is:',(a*b))\n",
    "print_result(7,7)"
   ]
  },
  {
   "cell_type": "code",
   "execution_count": 39,
   "id": "513d5638",
   "metadata": {
    "scrolled": true
   },
   "outputs": [
    {
     "data": {
      "text/plain": [
       "64"
      ]
     },
     "execution_count": 39,
     "metadata": {},
     "output_type": "execute_result"
    }
   ],
   "source": [
    "def return_result(a,b):\n",
    "    return a*b\n",
    "res = return_result(8,8)\n",
    "res"
   ]
  },
  {
   "cell_type": "markdown",
   "id": "294043d7",
   "metadata": {},
   "source": [
    "#### We can also store the value of `print_result` by doing following:"
   ]
  },
  {
   "cell_type": "code",
   "execution_count": null,
   "id": "9b03bbce",
   "metadata": {},
   "outputs": [],
   "source": [
    "result = print_result(20,4)\n",
    "result"
   ]
  },
  {
   "cell_type": "markdown",
   "id": "60554894",
   "metadata": {},
   "source": [
    "### Adding logic to functions"
   ]
  },
  {
   "cell_type": "code",
   "execution_count": 41,
   "id": "44d5dca4",
   "metadata": {},
   "outputs": [
    {
     "data": {
      "text/plain": [
       "False"
      ]
     },
     "execution_count": 41,
     "metadata": {},
     "output_type": "execute_result"
    }
   ],
   "source": [
    "def even_check(num):\n",
    "    return num%2 == 0\n",
    "#     if num%2 == 0:\n",
    "#         return True\n",
    "#     else:\n",
    "#         return False\n",
    "even_check(7)"
   ]
  },
  {
   "cell_type": "markdown",
   "id": "4ff8c8a7",
   "metadata": {},
   "source": [
    "### Checking if any number in list is even"
   ]
  },
  {
   "cell_type": "code",
   "execution_count": 45,
   "id": "61bc456a",
   "metadata": {},
   "outputs": [
    {
     "data": {
      "text/plain": [
       "True"
      ]
     },
     "execution_count": 45,
     "metadata": {},
     "output_type": "execute_result"
    }
   ],
   "source": [
    "def even_checking(list1):\n",
    "    for num in list1:\n",
    "        if num % 2 == 0:\n",
    "            return True\n",
    "        else:\n",
    "            pass\n",
    "    print('There is no even number in the list!!')\n",
    "even_checking([1,4,5,3,7,3])"
   ]
  },
  {
   "cell_type": "code",
   "execution_count": 46,
   "id": "0cbf643d",
   "metadata": {},
   "outputs": [
    {
     "name": "stdout",
     "output_type": "stream",
     "text": [
      "There is no even number in the list!!\n"
     ]
    }
   ],
   "source": [
    "even_checking([3,1,5,7,9])"
   ]
  },
  {
   "cell_type": "markdown",
   "id": "af566d2e",
   "metadata": {},
   "source": [
    "Common mistake that can happen when writing the logic could be"
   ]
  },
  {
   "cell_type": "code",
   "execution_count": 47,
   "id": "b2ef0eab",
   "metadata": {},
   "outputs": [
    {
     "data": {
      "text/plain": [
       "False"
      ]
     },
     "execution_count": 47,
     "metadata": {},
     "output_type": "execute_result"
    }
   ],
   "source": [
    "def even_checking(list1):\n",
    "    for num in list1:\n",
    "        if num % 2 == 0:\n",
    "            return True\n",
    "        else:\n",
    "#             pass\n",
    "            return False\n",
    "#     return False\n",
    "    print('There is no even number in the list!!')\n",
    "even_checking([1,5,3,7,3,4])"
   ]
  },
  {
   "cell_type": "markdown",
   "id": "a3fbd5a3",
   "metadata": {},
   "source": [
    "### Return all even numbers in the list"
   ]
  },
  {
   "cell_type": "code",
   "execution_count": 48,
   "id": "0251f97e",
   "metadata": {},
   "outputs": [
    {
     "data": {
      "text/plain": [
       "[2, 4, 6, 8]"
      ]
     },
     "execution_count": 48,
     "metadata": {},
     "output_type": "execute_result"
    }
   ],
   "source": [
    "def even_list(list1):\n",
    "    '''\n",
    "    This function helps us to make a seperate list of all even numbers in a list\n",
    "    '''\n",
    "    li = []\n",
    "    for num in list1:\n",
    "        if num % 2 == 0:\n",
    "            li.append(num)\n",
    "        else:\n",
    "            pass\n",
    "    return li\n",
    "even_list([1,2,3,4,5,6,7,8,9])"
   ]
  },
  {
   "cell_type": "markdown",
   "id": "169cdf8e",
   "metadata": {},
   "source": [
    "### Example of a recursive function"
   ]
  },
  {
   "cell_type": "code",
   "execution_count": 50,
   "id": "70e2413f",
   "metadata": {},
   "outputs": [
    {
     "name": "stdout",
     "output_type": "stream",
     "text": [
      "7\n",
      "9\n"
     ]
    }
   ],
   "source": [
    "def max_of_two(x,y):\n",
    "    if x>y:\n",
    "        return x\n",
    "    return y\n",
    "def max_of_three(x,y,z):\n",
    "    return max_of_two(x, max_of_two(y,z))\n",
    "\n",
    "print(max_of_two(7,4))\n",
    "print(max_of_three(3,5,9))"
   ]
  },
  {
   "cell_type": "markdown",
   "id": "93fcd519",
   "metadata": {},
   "source": [
    "### Patterns using loops"
   ]
  },
  {
   "cell_type": "code",
   "execution_count": 51,
   "id": "c8e650bc",
   "metadata": {},
   "outputs": [
    {
     "name": "stdout",
     "output_type": "stream",
     "text": [
      "*\n",
      "**\n",
      "***\n",
      "****\n",
      "*****\n"
     ]
    }
   ],
   "source": [
    "n = 5\n",
    "for i in range(n):\n",
    "    print('*'*(i+1))"
   ]
  },
  {
   "cell_type": "code",
   "execution_count": 52,
   "id": "971852e2",
   "metadata": {},
   "outputs": [
    {
     "name": "stdout",
     "output_type": "stream",
     "text": [
      "*****\n",
      " ****\n",
      "  ***\n",
      "   **\n",
      "    *\n"
     ]
    }
   ],
   "source": [
    "x, n = '', 5\n",
    "while n>0:\n",
    "    print(x+'*'*(n))\n",
    "    x += ' '\n",
    "    n-=1"
   ]
  },
  {
   "cell_type": "code",
   "execution_count": 53,
   "id": "2add16e3",
   "metadata": {},
   "outputs": [
    {
     "name": "stdout",
     "output_type": "stream",
     "text": [
      "*****\n",
      "****\n",
      "***\n",
      "**\n",
      "*\n"
     ]
    }
   ],
   "source": [
    "n = 5\n",
    "for i in range(n):\n",
    "    print('*'*(n-i))"
   ]
  },
  {
   "cell_type": "code",
   "execution_count": 54,
   "id": "65dd34f0",
   "metadata": {},
   "outputs": [
    {
     "name": "stdout",
     "output_type": "stream",
     "text": [
      "*\n",
      "**\n",
      "***\n",
      "****\n",
      "*****\n",
      "****\n",
      "***\n",
      "**\n",
      "*\n"
     ]
    }
   ],
   "source": [
    "for i in range(6):\n",
    "    if i !=5:\n",
    "        print('*'*(i+1))\n",
    "    else:\n",
    "        for i in range(5,1,-1):\n",
    "            print('*'*(i-1))\n",
    "            if i == 1:\n",
    "                break\n",
    "        break"
   ]
  },
  {
   "cell_type": "code",
   "execution_count": 55,
   "id": "550a11e2",
   "metadata": {},
   "outputs": [
    {
     "name": "stdout",
     "output_type": "stream",
     "text": [
      "*****\n",
      "*   *\n",
      "*   *\n",
      "*   *\n",
      "*   *\n",
      "*****\n"
     ]
    }
   ],
   "source": [
    "n = 5\n",
    "for i in range(n+1):\n",
    "    if i%n==0 or i+1%n==0:\n",
    "        print('*'*(n))\n",
    "    else:\n",
    "        print('*   *')"
   ]
  },
  {
   "cell_type": "markdown",
   "id": "90ec6607",
   "metadata": {},
   "source": [
    "## Object-Oriented Programming\n",
    "In Python, object-oriented Programming (OOPs) is a programming paradigm that uses objects and classes in programming. It aims to implement real-world entities like inheritance, polymorphisms, encapsulation, etc. in the programming.\n",
    "\n",
    "I would cover the following topics -\n",
    "\n",
    "* Objects\n",
    "* Using the *class* keyword\n",
    "* Creating class attributes\n",
    "* Creating methods in a class\n",
    "* Learning about Inheritance\n",
    "* Learning about Polymorphism\n",
    "* Learning about Special Methods for classes\n",
    "\n",
    "Basic python object and type(object_name) could be used to get the class of that object"
   ]
  },
  {
   "cell_type": "code",
   "execution_count": 62,
   "id": "9aaf4136",
   "metadata": {},
   "outputs": [
    {
     "data": {
      "text/plain": [
       "[1, 2, 3, 4, 5, 7, 8, 4, 4]"
      ]
     },
     "execution_count": 62,
     "metadata": {},
     "output_type": "execute_result"
    }
   ],
   "source": [
    "my_list = [1,2,3,4,5, 7, 8, 4, 4]\n",
    "my_list"
   ]
  },
  {
   "cell_type": "markdown",
   "id": "684bfea0",
   "metadata": {},
   "source": [
    "List of all the methods and attributesassociated with `list` class"
   ]
  },
  {
   "cell_type": "code",
   "execution_count": 65,
   "id": "44a658d0",
   "metadata": {
    "scrolled": true
   },
   "outputs": [
    {
     "data": {
      "text/plain": [
       "['__add__',\n",
       " '__class__',\n",
       " '__contains__',\n",
       " '__delattr__',\n",
       " '__delitem__',\n",
       " '__dir__',\n",
       " '__doc__',\n",
       " '__eq__',\n",
       " '__format__',\n",
       " '__ge__',\n",
       " '__getattribute__',\n",
       " '__getitem__',\n",
       " '__gt__',\n",
       " '__hash__',\n",
       " '__iadd__',\n",
       " '__imul__',\n",
       " '__init__',\n",
       " '__init_subclass__',\n",
       " '__iter__',\n",
       " '__le__',\n",
       " '__len__',\n",
       " '__lt__',\n",
       " '__mul__',\n",
       " '__ne__',\n",
       " '__new__',\n",
       " '__reduce__',\n",
       " '__reduce_ex__',\n",
       " '__repr__',\n",
       " '__reversed__',\n",
       " '__rmul__',\n",
       " '__setattr__',\n",
       " '__setitem__',\n",
       " '__sizeof__',\n",
       " '__str__',\n",
       " '__subclasshook__',\n",
       " 'append',\n",
       " 'clear',\n",
       " 'copy',\n",
       " 'count',\n",
       " 'extend',\n",
       " 'index',\n",
       " 'insert',\n",
       " 'pop',\n",
       " 'remove',\n",
       " 'reverse',\n",
       " 'sort']"
      ]
     },
     "execution_count": 65,
     "metadata": {},
     "output_type": "execute_result"
    }
   ],
   "source": [
    "dir(type(my_list))"
   ]
  },
  {
   "cell_type": "markdown",
   "id": "82e556e9",
   "metadata": {},
   "source": [
    "### Objects\n",
    "In Python, everything is an object. Remember from previous lectures we can use type() to check the type of object something is:"
   ]
  },
  {
   "cell_type": "code",
   "execution_count": 66,
   "id": "1072c1a9",
   "metadata": {},
   "outputs": [
    {
     "name": "stdout",
     "output_type": "stream",
     "text": [
      "<class 'int'>\n",
      "<class 'list'>\n",
      "<class 'tuple'>\n",
      "<class 'dict'>\n"
     ]
    }
   ],
   "source": [
    "print(type(1))\n",
    "print(type([]))\n",
    "print(type(()))\n",
    "print(type({}))"
   ]
  },
  {
   "cell_type": "markdown",
   "id": "0fe81039",
   "metadata": {},
   "source": [
    "## class\n",
    "User defined objects are created using the <code>class</code> keyword. The class is a blueprint that defines the nature of a future object. From classes we can construct instances. An instance is a specific object created from a particular class. For example, above we created the object <code>lst</code> which was an instance of a list object. \n",
    "\n",
    "Let see how we can use <code>class</code>:"
   ]
  },
  {
   "cell_type": "code",
   "execution_count": 68,
   "id": "328f3131",
   "metadata": {},
   "outputs": [
    {
     "name": "stdout",
     "output_type": "stream",
     "text": [
      "<class '__main__.Sample'>\n"
     ]
    }
   ],
   "source": [
    "# Create a new object type called Sample\n",
    "class Sample:\n",
    "    y =44\n",
    "    def func1():\n",
    "        # code here\n",
    "    pass\n",
    "\n",
    "# Instance of Sample\n",
    "x = Sample()\n",
    "x.func1()\n",
    "print(type(x))"
   ]
  },
  {
   "cell_type": "markdown",
   "id": "f9b13d95",
   "metadata": {},
   "source": [
    "By convention we give classes a name that starts with a capital letter(as above). We need to call a class separately and it is not initialised or called on its own. Note how <code>x</code> is now the reference to our new instance of a Sample class. In other words, we **instantiate** the Sample class.\n",
    "\n",
    "Inside of the class we currently just have pass. But we can define class attributes and methods.\n",
    "\n",
    "An **attribute** is a characteristic of an object.\n",
    "A **method** is an operation we can perform with the object.\n",
    "\n",
    "For example, we can create a class called Dog. An attribute of a dog may be its breed or its name, while a method of a dog may be defined by a .bark() method which returns a sound.\n",
    "\n",
    "Let's get a better understanding of attributes through an example.\n",
    "\n",
    "## Attributes\n",
    "The syntax for creating an attribute is:\n",
    "    \n",
    "    self.attribute = something\n",
    "    \n",
    "There is a special method called:\n",
    "\n",
    "    __init__()\n",
    "\n",
    "This method is used to initialize the attributes of an object. For example:"
   ]
  },
  {
   "cell_type": "code",
   "execution_count": 69,
   "id": "701a7529",
   "metadata": {},
   "outputs": [],
   "source": [
    "class Dog:\n",
    "    def __init__(self,breed):\n",
    "        self.breed = breed\n",
    "        \n",
    "sam = Dog(breed='Lab')\n",
    "frank = Dog(breed='Huskie')"
   ]
  },
  {
   "cell_type": "markdown",
   "id": "72fdf447",
   "metadata": {},
   "source": [
    "Lets break down what we have above.The special method\n",
    "\n",
    "`__init__()` \n",
    "is called automatically right after the object has been created:\n",
    "\n",
    "def `__init__(self, breed)`:\n",
    "Each attribute in a class definition begins with a reference to the instance object. It is by convention named self. The breed is the argument. The value is passed during the class instantiation.\n",
    "\n",
    "The `self` parameter should be the first argument of the regular instance method. Nevertheless, always keep self as self.\n",
    "\n",
    " self.breed = breed\n",
    " \n",
    "Now we have created two instances of the Dog class. With two breed types, we can then access these attributes like this:"
   ]
  },
  {
   "cell_type": "code",
   "execution_count": 70,
   "id": "f5d82c5b",
   "metadata": {},
   "outputs": [
    {
     "data": {
      "text/plain": [
       "'Lab'"
      ]
     },
     "execution_count": 70,
     "metadata": {},
     "output_type": "execute_result"
    }
   ],
   "source": [
    "sam.breed"
   ]
  },
  {
   "cell_type": "code",
   "execution_count": 71,
   "id": "f91c00bd",
   "metadata": {},
   "outputs": [
    {
     "data": {
      "text/plain": [
       "'Huskie'"
      ]
     },
     "execution_count": 71,
     "metadata": {},
     "output_type": "execute_result"
    }
   ],
   "source": [
    "frank.breed"
   ]
  },
  {
   "cell_type": "markdown",
   "id": "1a8fe524",
   "metadata": {},
   "source": [
    "Note how we don't have any parentheses after breed; this is because it is an attribute and doesn't take any arguments.\n",
    "\n",
    "In Python there are also *class object attributes*. These Class Object Attributes are the same for any instance of the class. For example, we could create the attribute *species* for the Dog class. Dogs, regardless of their breed, name, or other attributes, will always be mammals. We apply this logic in the following manner:"
   ]
  },
  {
   "cell_type": "code",
   "execution_count": null,
   "id": "d4e46e6c",
   "metadata": {},
   "outputs": [],
   "source": [
    "class Dog:\n",
    "    \n",
    "    # Class Object Attribute\n",
    "    species = 'mammal'\n",
    "    \n",
    "    def __init__(self,breed,name):\n",
    "        self.breed = breed\n",
    "        self.name = name"
   ]
  },
  {
   "cell_type": "code",
   "execution_count": null,
   "id": "20da7523",
   "metadata": {},
   "outputs": [],
   "source": [
    "sam = Dog('Lab','Sam')\n",
    "print(sam.name)"
   ]
  },
  {
   "cell_type": "markdown",
   "id": "ed32a7e7",
   "metadata": {},
   "source": [
    "Note that the Class Object Attribute is defined outside of any methods in the class. Also by convention, we place them first before the init."
   ]
  },
  {
   "cell_type": "code",
   "execution_count": 72,
   "id": "c58c6e25",
   "metadata": {},
   "outputs": [
    {
     "data": {
      "text/plain": [
       "1750.0"
      ]
     },
     "execution_count": 72,
     "metadata": {},
     "output_type": "execute_result"
    }
   ],
   "source": [
    "print(sam.species)"
   ]
  },
  {
   "cell_type": "markdown",
   "id": "eccabdd8",
   "metadata": {},
   "source": [
    "## Methods\n",
    "\n",
    "Methods are functions defined inside the body of a class. They are used to perform operations with the attributes of our objects. Methods are a key concept of the OOP paradigm. They are essential to dividing responsibilities in programming, especially in large applications.\n",
    "\n",
    "You can basically think of methods as functions acting on an Object that take the Object itself into account through its *self* argument.\n",
    "\n",
    "Let's go through an example of creating a Circle class:\n",
    "\n",
    "class class_name():<br>\n",
    "    def __init__(self):\n",
    "        pass\n",
    "    def method_name(self):\n",
    "        # method body"
   ]
  },
  {
   "cell_type": "code",
   "execution_count": null,
   "id": "949e9de3",
   "metadata": {},
   "outputs": [],
   "source": [
    "# class class_name():\n",
    "#     def __init__(self):\n",
    "#         pass\n",
    "#     def method_name(self):\n",
    "#         # method body\n",
    "class Circle:\n",
    "    pi = 3.14\n",
    "#     import math\n",
    "\n",
    "    # Circle gets instantiated with a radius (default is 1)\n",
    "    def __init__(self, radius=1):\n",
    "        self.radius = radius \n",
    "        self.area = radius ** 2 * self.pi\n",
    "\n",
    "    # Method for resetting Radius\n",
    "    def setRadius(self, new_radius):\n",
    "        self.radius = new_radius\n",
    "        self.area = new_radius ** 2 * self.pi\n",
    "\n",
    "    # Method for getting Circumference\n",
    "    def getCircumference(self):\n",
    "        return self.radius * self.pi * 2\n",
    "\n",
    "\n",
    "c = Circle()\n",
    "\n",
    "print('Radius is: ',c.radius)\n",
    "print('Area is: ',c.area)\n",
    "print('Circumference is: ',c.getCircumference())\n",
    "print('-------------------')\n",
    "c.setRadius(3)\n",
    "print('Radius is: ', c.radius)\n",
    "print('Area is: ', c.area)\n",
    "print('Circumference is: ', c.getCircumference())"
   ]
  },
  {
   "cell_type": "markdown",
   "id": "a35a21e8",
   "metadata": {},
   "source": [
    "## Inheritance\n",
    "Inheritance is a way to form new classes using classes that have already been defined. The newly formed classes are called derived classes, the classes that we derive from are called base classes. Important benefits of inheritance are code reuse and reduction of complexity of a program. The derived classes (descendants) override or extend the functionality of base classes (ancestors).\n",
    "\n",
    "Let's see an example by incorporating our previous work on the Dog class:"
   ]
  },
  {
   "cell_type": "code",
   "execution_count": null,
   "id": "2af8de99",
   "metadata": {},
   "outputs": [],
   "source": [
    "class Animal:\n",
    "    def __init__(self):\n",
    "        print(\"Animal created\")\n",
    "\n",
    "    def whoAmI(self):\n",
    "        print(\"Animal\")\n",
    "\n",
    "    def eat(self):\n",
    "        print(\"Eating\")\n",
    "\n",
    "\n",
    "class Dog(Animal):\n",
    "    def __init__(self):\n",
    "        Animal.__init__(self)\n",
    "        print(\"Dog created\")\n",
    "\n",
    "    def whoAmI(self):\n",
    "        print(\"Dog\")\n",
    "\n",
    "    def bark(self):\n",
    "        print(\"Woof!\")"
   ]
  },
  {
   "cell_type": "code",
   "execution_count": null,
   "id": "8ee6f0a9",
   "metadata": {},
   "outputs": [],
   "source": [
    "d = Dog()"
   ]
  },
  {
   "cell_type": "code",
   "execution_count": null,
   "id": "f770f6f0",
   "metadata": {},
   "outputs": [],
   "source": [
    "d.whoAmI()"
   ]
  },
  {
   "cell_type": "code",
   "execution_count": null,
   "id": "d82f791d",
   "metadata": {},
   "outputs": [],
   "source": [
    "d.eat()"
   ]
  },
  {
   "cell_type": "code",
   "execution_count": null,
   "id": "3c106c59",
   "metadata": {},
   "outputs": [],
   "source": [
    "d.bark()"
   ]
  },
  {
   "cell_type": "markdown",
   "id": "961d1aac",
   "metadata": {},
   "source": [
    "In this example, we have two classes: Animal and Dog. The Animal is the base class, the Dog is the derived class. \n",
    "\n",
    "The derived class inherits the functionality of the base class. \n",
    "\n",
    "* It is shown by the eat() method. \n",
    "\n",
    "The derived class modifies existing behavior of the base class.\n",
    "\n",
    "* shown by the whoAmI() method. \n",
    "\n",
    "Finally, the derived class extends the functionality of the base class, by defining a new bark() method.\n",
    "\n",
    "## Polymorphism\n",
    "We've learned that while functions can take in different arguments, methods belong to the objects they act on. In Python, *polymorphism* refers to the way in which different object classes can share the same method name, and those methods can be called from the same place even though a variety of different objects might be passed in. The best way to explain this is by example:"
   ]
  },
  {
   "cell_type": "code",
   "execution_count": null,
   "id": "4bbeb3c1",
   "metadata": {},
   "outputs": [],
   "source": [
    "class Dog:\n",
    "    def __init__(self, name):\n",
    "        self.name = name\n",
    "\n",
    "    def speak(self):\n",
    "        return self.name+' says Woof!'\n",
    "    \n",
    "class Cat:\n",
    "    def __init__(self, name):\n",
    "        self.name = name\n",
    "\n",
    "    def speak(self):\n",
    "        return self.name+' says Meow!' \n",
    "    \n",
    "niko = Dog('Niko')\n",
    "felix = Cat('Felix')\n",
    "\n",
    "print(niko.speak())\n",
    "print(felix.speak())"
   ]
  },
  {
   "cell_type": "markdown",
   "id": "3b0b2506",
   "metadata": {},
   "source": [
    "A more common practice is to use abstract classes and inheritance. An abstract class is one that never expects to be instantiated. For example, we will never have an Animal object, only Dog and Cat objects, although Dogs and Cats are derived from Animals:\n",
    "## Abstraction"
   ]
  },
  {
   "cell_type": "code",
   "execution_count": null,
   "id": "86aea8aa",
   "metadata": {},
   "outputs": [],
   "source": [
    "class Animal:\n",
    "    def __init__(self, name):    # Constructor of the class\n",
    "        self.name = name\n",
    "\n",
    "    def speak(self):              # Abstract method, defined by convention only\n",
    "        raise NotImplementedError(\"Subclass must implement abstract method\")\n",
    "\n",
    "\n",
    "class Dog(Animal):\n",
    "    \n",
    "    def speak(self):\n",
    "        return self.name+' says Woof!'\n",
    "    \n",
    "class Cat(Animal):\n",
    "\n",
    "    def speak(self):\n",
    "        return self.name+' says Meow!'\n",
    "    \n",
    "fido = Dog('Fido')\n",
    "isis = Cat('Isis')\n",
    "\n",
    "print(fido.speak())\n",
    "print(isis.speak())"
   ]
  },
  {
   "cell_type": "markdown",
   "id": "6b4f1829",
   "metadata": {},
   "source": [
    "## Special methods\n",
    "Classes in Python can implement certain operations with special method names. These methods are not actually called directly but by Python specific language syntax. For example let's create a Book class:"
   ]
  },
  {
   "cell_type": "code",
   "execution_count": null,
   "id": "9ffa4da2",
   "metadata": {},
   "outputs": [],
   "source": [
    "class Book:\n",
    "    def __init__(self, title, author, pages):\n",
    "        print(\"A book is created\")\n",
    "        self.title = title\n",
    "        self.author = author\n",
    "        self.pages = pages\n",
    "\n",
    "    def __str__(self):\n",
    "        return \"Title: %s, author: %s, pages: %s\" %(self.title, self.author, self.pages)\n",
    "\n",
    "    def __len__(self):\n",
    "        return self.pages\n",
    "\n",
    "    def __del__(self):\n",
    "        print(\"A book is destroyed\")\n",
    "\n",
    "        \n",
    "book = Book(\"Introduction to Python!\", \"Puranjit Singh\", 100)\n",
    "\n",
    "#Special Methods\n",
    "print(book)\n",
    "print(len(book))\n",
    "del book"
   ]
  },
  {
   "cell_type": "markdown",
   "id": "1fa7ff82",
   "metadata": {},
   "source": [
    "The __init__(), __str__(), __len__() and __del__() methods\n",
    "These special methods are defined by their use of underscores. They allow us to use Python specific functions on objects created through our class.\n",
    "\n",
    "For more great resources:<br>\n",
    "[Tutorial's Point](http://www.tutorialspoint.com/python/python_classes_objects.htm)\n",
    "\n",
    "[Official Documentation](https://docs.python.org/3/tutorial/classes.html)"
   ]
  },
  {
   "cell_type": "code",
   "execution_count": null,
   "id": "1d8eaecd",
   "metadata": {},
   "outputs": [],
   "source": []
  }
 ],
 "metadata": {
  "kernelspec": {
   "display_name": "Python 3",
   "language": "python",
   "name": "python3"
  },
  "language_info": {
   "codemirror_mode": {
    "name": "ipython",
    "version": 3
   },
   "file_extension": ".py",
   "mimetype": "text/x-python",
   "name": "python",
   "nbconvert_exporter": "python",
   "pygments_lexer": "ipython3",
   "version": "3.8.8"
  }
 },
 "nbformat": 4,
 "nbformat_minor": 5
}
